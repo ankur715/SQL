{
 "cells": [
  {
   "cell_type": "markdown",
   "metadata": {},
   "source": [
    "## PostgreSQL Python: Connect To PostgreSQL Database Server"
   ]
  },
  {
   "cell_type": "code",
   "execution_count": 1,
   "metadata": {},
   "outputs": [],
   "source": [
    "import psycopg2"
   ]
  },
  {
   "cell_type": "code",
   "execution_count": 2,
   "metadata": {},
   "outputs": [],
   "source": [
    "conn = psycopg2.connect(\"dbname=suppliers user=postgres password=ankur715\")"
   ]
  },
  {
   "cell_type": "code",
   "execution_count": 3,
   "metadata": {},
   "outputs": [],
   "source": [
    "conn = psycopg2.connect(host=\"localhost\", database=\"ZAGDB\", user=\"postgres\", password=\"ankur715\")"
   ]
  },
  {
   "cell_type": "markdown",
   "metadata": {},
   "source": [
    "The following is the list of the connection parameters:  \n",
    "\n",
    "- database: the name of the database that you want to connect.  \n",
    "- user: the username used to authenticate.  \n",
    "- password: password used to authenticate.  \n",
    "- host: database server address e.g., localhost or an IP address.  \n",
    "- port: the port number that defaults to 5432 if it is not provided."
   ]
  },
  {
   "cell_type": "markdown",
   "metadata": {},
   "source": [
    "The following config() function read the __database.ini__ file and returns the connection parameters. \n",
    "\n",
    "We put the __config()__ function in the __config.py__ file:"
   ]
  },
  {
   "cell_type": "code",
   "execution_count": 4,
   "metadata": {},
   "outputs": [],
   "source": [
    "#!/usr/bin/python\n",
    "from configparser import ConfigParser\n",
    " \n",
    "def config(filename='database.ini', section='postgresql'):\n",
    "    # create a parser\n",
    "    parser = ConfigParser()\n",
    "    # read config file\n",
    "    parser.read(filename)\n",
    " \n",
    "    # get section, default to postgresql\n",
    "    db = {}\n",
    "    if parser.has_section(section):\n",
    "        params = parser.items(section)\n",
    "        for param in params:\n",
    "            db[param[0]] = param[1]\n",
    "    else:\n",
    "        raise Exception('Section {0} not found in the {1} file'.format(section, filename))\n",
    " \n",
    "    return db"
   ]
  },
  {
   "cell_type": "markdown",
   "metadata": {},
   "source": [
    "The following __connect()__ function connects to the suppliers database and prints out the PostgreSQL database version."
   ]
  },
  {
   "cell_type": "code",
   "execution_count": 5,
   "metadata": {},
   "outputs": [
    {
     "name": "stdout",
     "output_type": "stream",
     "text": [
      "Connecting to the PostgreSQL database...\n",
      "PostgreSQL database version:\n",
      "('PostgreSQL 12.2, compiled by Visual C++ build 1914, 64-bit',)\n",
      "Database connection closed.\n"
     ]
    }
   ],
   "source": [
    "#!/usr/bin/python\n",
    "import psycopg2\n",
    "from config import config\n",
    " \n",
    "def connect():\n",
    "    \"\"\" Connect to the PostgreSQL database server \"\"\"\n",
    "    conn = None\n",
    "    try:\n",
    "        # read connection parameters\n",
    "        params = config()\n",
    " \n",
    "        # connect to the PostgreSQL server\n",
    "        print('Connecting to the PostgreSQL database...')\n",
    "        conn = psycopg2.connect(**params)\n",
    "      \n",
    "        # create a cursor\n",
    "        cur = conn.cursor()\n",
    "        \n",
    "   # execute a statement\n",
    "        print('PostgreSQL database version:')\n",
    "        cur.execute('SELECT version()')\n",
    " \n",
    "        # display the PostgreSQL database server version\n",
    "        db_version = cur.fetchone()\n",
    "        print(db_version)\n",
    "       \n",
    "       # close the communication with the PostgreSQL\n",
    "        cur.close()\n",
    "    except (Exception, psycopg2.DatabaseError) as error:\n",
    "        print(error)\n",
    "    finally:\n",
    "        if conn is not None:\n",
    "            conn.close()\n",
    "            print('Database connection closed.')\n",
    " \n",
    " \n",
    "if __name__ == '__main__':\n",
    "    connect()"
   ]
  },
  {
   "cell_type": "markdown",
   "metadata": {},
   "source": [
    "Consider building the query dynamically to ensure the number of placeholders matches your table and CSV file format. Then it's just a matter of ensuring your table and CSV file are correct, instead of checking that you typed enough ? placeholders in your code."
   ]
  },
  {
   "cell_type": "markdown",
   "metadata": {},
   "source": [
    "## Interacting with the database using psycopg2:"
   ]
  },
  {
   "cell_type": "code",
   "execution_count": 1,
   "metadata": {},
   "outputs": [],
   "source": [
    "import psycopg2\n",
    "conn = psycopg2.connect(host=\"localhost\", database=\"ZAGDB\", user=\"postgres\", password=\"ankur715\")\n",
    "cur = conn.cursor()\n",
    "cur.execute('SELECT * FROM category;')\n",
    "one = cur.fetchone()\n",
    "all = cur.fetchall()"
   ]
  },
  {
   "cell_type": "code",
   "execution_count": 2,
   "metadata": {},
   "outputs": [
    {
     "data": {
      "text/plain": [
       "('CP', 'Camping')"
      ]
     },
     "execution_count": 2,
     "metadata": {},
     "output_type": "execute_result"
    }
   ],
   "source": [
    "one"
   ]
  },
  {
   "cell_type": "code",
   "execution_count": 3,
   "metadata": {},
   "outputs": [
    {
     "data": {
      "text/plain": [
       "[('FW', 'Footwear'),\n",
       " ('CL', 'Climbing'),\n",
       " ('EL', 'Electronics'),\n",
       " ('CY', 'Cycling')]"
      ]
     },
     "execution_count": 3,
     "metadata": {},
     "output_type": "execute_result"
    }
   ],
   "source": [
    "all"
   ]
  },
  {
   "cell_type": "code",
   "execution_count": 38,
   "metadata": {},
   "outputs": [],
   "source": [
    "tables = [\"category\",\"customer\",\"product\",\"region\",\"salestransaction\",\"soldvia\",\"store\",\"vendor\"]\n",
    "for i in range(len(tables)):\n",
    "    cur.execute('SELECT * FROM {};'.format(tables[i]))\n",
    "    tables[i] = cur.fetchall()"
   ]
  },
  {
   "cell_type": "code",
   "execution_count": 43,
   "metadata": {
    "scrolled": false
   },
   "outputs": [
    {
     "name": "stdout",
     "output_type": "stream",
     "text": [
      "    0            1\n",
      "0  CP      Camping\n",
      "1  FW     Footwear\n",
      "2  CL     Climbing\n",
      "3  EL  Electronics\n",
      "4  CY      Cycling\n",
      "         0     1      2\n",
      "0  1-2-333  Tina  60137\n",
      "1  2-3-444  Tony  60611\n",
      "2  3-4-555   Pam  35401\n",
      "3  4-5-666  Elly  47374\n",
      "4  5-6-777  Nora  60640\n",
      "     0          1       2   3   4\n",
      "0  1X1    Zzz Bag  100.00  PG  CP\n",
      "1  2X2  Easy Boot   70.00  MK  FW\n",
      "2  3X3  Cosy Sock   15.00  MK  FW\n",
      "3  4X4  Dura Boot   90.00  PG  FW\n",
      "4  5X5  Tiny Tent  150.00  MK  CP\n",
      "   0            1\n",
      "0  C  Chicagoland\n",
      "1  T     Tristate\n",
      "2  I      Indiana\n",
      "3  N        North\n",
      "      0        1   2           3\n",
      "0  T111  1-2-333  S1  2013-01-01\n",
      "1  T222  2-3-444  S2  2013-01-01\n",
      "2  T333  1-2-333  S3  2013-01-02\n",
      "3  T444  3-4-555  S3  2013-01-02\n",
      "4  T555  2-3-444  S3  2013-01-02\n",
      "     0     1  2\n",
      "0  1X1  T111  1\n",
      "1  2X2  T222  1\n",
      "2  3X3  T333  5\n",
      "3  1X1  T333  1\n",
      "4  4X4  T444  1\n",
      "    0      1  2\n",
      "0  S1  60600  C\n",
      "1  S2  60605  C\n",
      "2  S3  35400  T\n",
      "3  S4  60640  C\n",
      "4  S5  46307  T\n",
      "    0                   1\n",
      "0  PG       Pacifica Gear\n",
      "1  MK       Mountain King\n",
      "2  OA  Outdoor Adventures\n",
      "3  WL  Wilderness Limited\n"
     ]
    }
   ],
   "source": [
    "for i,j in enumerate(tables):\n",
    "    j = pd.DataFrame(j)\n",
    "    print(j.head())"
   ]
  },
  {
   "cell_type": "markdown",
   "metadata": {},
   "source": [
    "## Creating a table:"
   ]
  },
  {
   "cell_type": "markdown",
   "metadata": {},
   "source": [
    "Similar to running a SELECT query, we will write the command as a string and pass it to the execute() method."
   ]
  },
  {
   "cell_type": "code",
   "execution_count": 7,
   "metadata": {},
   "outputs": [],
   "source": [
    "cur.execute(\"\"\"\n",
    "CREATE TABLE user_accounts(\n",
    "name text PRIMARY KEY,\n",
    "department text,\n",
    "title text,\n",
    "telephonenumber text,\n",
    "samaccountname text)\n",
    "\"\"\")"
   ]
  },
  {
   "cell_type": "markdown",
   "metadata": {},
   "source": [
    "Whenever we open a Connection in psycopg2, a new transaction will automatically be created. All queries run up until the commit method is called will be placed into the same transaction block. When commit is called, the PostgreSQL engine will run all the queries at once.\n",
    "\n",
    "To commit our changes and create the users table from before, all we need to do is to run the `commit()` method at the end of our transaction."
   ]
  },
  {
   "cell_type": "code",
   "execution_count": 8,
   "metadata": {},
   "outputs": [],
   "source": [
    "conn.commit()"
   ]
  },
  {
   "cell_type": "markdown",
   "metadata": {},
   "source": [
    "## Inserting the data:"
   ]
  },
  {
   "cell_type": "code",
   "execution_count": 9,
   "metadata": {},
   "outputs": [],
   "source": [
    "insert_query = \"INSERT INTO user_accounts VALUES {}\".format(\"('bob', 'IT', 'engineer', ' +44', 'bobit24')\")\n",
    "cur.execute(insert_query)\n",
    "conn.commit()"
   ]
  },
  {
   "cell_type": "code",
   "execution_count": 27,
   "metadata": {},
   "outputs": [],
   "source": [
    "cur.execute(\"INSERT INTO user_accounts VALUES (%s, %s, %s, %s, %s)\", ('abob', 'aIT', 'aengineer', '+44', 'abobit24'))\n",
    "conn.commit()"
   ]
  },
  {
   "cell_type": "code",
   "execution_count": null,
   "metadata": {},
   "outputs": [],
   "source": [
    "import csv\n",
    "cur = conn.cursor()\n",
    "with open('user_accounts.csv', 'r') as f:\n",
    "    reader = csv.reader(f)\n",
    "    next(reader) # Skip the header row.\n",
    "    def convert(list):\n",
    "        return tuple(list)\n",
    "    \n",
    "    for row in reader:\n",
    "        row = convert(row)\n",
    "        cur.execute(\n",
    "        \"INSERT INTO users VALUES {}\".format(row)\n",
    "        )\n",
    "    conn.commit()"
   ]
  },
  {
   "cell_type": "markdown",
   "metadata": {},
   "source": [
    "## Copying the data:"
   ]
  },
  {
   "cell_type": "code",
   "execution_count": null,
   "metadata": {},
   "outputs": [],
   "source": [
    "with open('user_accounts.csv', 'r') as f:\n",
    "    # Notice that we don't need the `csv` module.\n",
    "    next(f) # Skip the header row.\n",
    "    cur.copy_from(f, 'user_accounts', sep=',')\n",
    "    conn.commit()"
   ]
  }
 ],
 "metadata": {
  "kernelspec": {
   "display_name": "Python 3",
   "language": "python",
   "name": "python3"
  },
  "language_info": {
   "codemirror_mode": {
    "name": "ipython",
    "version": 3
   },
   "file_extension": ".py",
   "mimetype": "text/x-python",
   "name": "python",
   "nbconvert_exporter": "python",
   "pygments_lexer": "ipython3",
   "version": "3.7.3"
  }
 },
 "nbformat": 4,
 "nbformat_minor": 2
}
