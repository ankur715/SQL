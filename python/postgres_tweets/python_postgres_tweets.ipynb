{
 "cells": [
  {
   "cell_type": "markdown",
   "metadata": {},
   "source": [
    "# Building an ETL Pipeline in Python"
   ]
  },
  {
   "cell_type": "code",
   "execution_count": 1,
   "metadata": {},
   "outputs": [],
   "source": [
    "import pandas as pd \n",
    "import psycopg2\n",
    "from nltk.tokenize import word_tokenize\n",
    "from nltk.corpus import stopwords\n",
    "from nltk.stem.porter import PorterStemmer\n",
    "from nltk.stem import WordNetLemmatizer\n",
    "import nltk\n",
    "from wordcloud import WordCloud, STOPWORDS\n",
    "import numpy as np\n",
    "import matplotlib.pyplot as plt\n",
    "from textblob import TextBlob\n",
    "import os"
   ]
  },
  {
   "cell_type": "code",
   "execution_count": 2,
   "metadata": {},
   "outputs": [
    {
     "data": {
      "text/html": [
       "<div>\n",
       "<style scoped>\n",
       "    .dataframe tbody tr th:only-of-type {\n",
       "        vertical-align: middle;\n",
       "    }\n",
       "\n",
       "    .dataframe tbody tr th {\n",
       "        vertical-align: top;\n",
       "    }\n",
       "\n",
       "    .dataframe thead th {\n",
       "        text-align: right;\n",
       "    }\n",
       "</style>\n",
       "<table border=\"1\" class=\"dataframe\">\n",
       "  <thead>\n",
       "    <tr style=\"text-align: right;\">\n",
       "      <th></th>\n",
       "      <th>Title</th>\n",
       "      <th>Review</th>\n",
       "      <th>Recommended</th>\n",
       "    </tr>\n",
       "  </thead>\n",
       "  <tbody>\n",
       "    <tr>\n",
       "      <th>0</th>\n",
       "      <td>Beautiful unique dress</td>\n",
       "      <td>Wore this to my sons wedding. found it last mi...</td>\n",
       "      <td>1</td>\n",
       "    </tr>\n",
       "    <tr>\n",
       "      <th>1</th>\n",
       "      <td>Had high hopes but...</td>\n",
       "      <td>Gals, if you absolutely must have this top wai...</td>\n",
       "      <td>0</td>\n",
       "    </tr>\n",
       "    <tr>\n",
       "      <th>2</th>\n",
       "      <td>Buttons -buttons so cute!</td>\n",
       "      <td>I hardly believe i have not reviewed htis yet....</td>\n",
       "      <td>1</td>\n",
       "    </tr>\n",
       "    <tr>\n",
       "      <th>3</th>\n",
       "      <td>Love this dress</td>\n",
       "      <td>This dress is so cute and comfortable. i'm nor...</td>\n",
       "      <td>1</td>\n",
       "    </tr>\n",
       "    <tr>\n",
       "      <th>4</th>\n",
       "      <td>Perfect summer pants!</td>\n",
       "      <td>The linen- cotton blend breathes so well for a...</td>\n",
       "      <td>1</td>\n",
       "    </tr>\n",
       "  </tbody>\n",
       "</table>\n",
       "</div>"
      ],
      "text/plain": [
       "                       Title  \\\n",
       "0     Beautiful unique dress   \n",
       "1      Had high hopes but...   \n",
       "2  Buttons -buttons so cute!   \n",
       "3            Love this dress   \n",
       "4      Perfect summer pants!   \n",
       "\n",
       "                                              Review  Recommended  \n",
       "0  Wore this to my sons wedding. found it last mi...            1  \n",
       "1  Gals, if you absolutely must have this top wai...            0  \n",
       "2  I hardly believe i have not reviewed htis yet....            1  \n",
       "3  This dress is so cute and comfortable. i'm nor...            1  \n",
       "4  The linen- cotton blend breathes so well for a...            1  "
      ]
     },
     "execution_count": 2,
     "metadata": {},
     "output_type": "execute_result"
    }
   ],
   "source": [
    "df = pd.read_csv(\"data.csv\")\n",
    "df.head()"
   ]
  },
  {
   "cell_type": "code",
   "execution_count": 7,
   "metadata": {},
   "outputs": [
    {
     "data": {
      "text/html": [
       "<div>\n",
       "<style scoped>\n",
       "    .dataframe tbody tr th:only-of-type {\n",
       "        vertical-align: middle;\n",
       "    }\n",
       "\n",
       "    .dataframe tbody tr th {\n",
       "        vertical-align: top;\n",
       "    }\n",
       "\n",
       "    .dataframe thead th {\n",
       "        text-align: right;\n",
       "    }\n",
       "</style>\n",
       "<table border=\"1\" class=\"dataframe\">\n",
       "  <thead>\n",
       "    <tr style=\"text-align: right;\">\n",
       "      <th></th>\n",
       "      <th>Title</th>\n",
       "      <th>tweet</th>\n",
       "      <th>Recommended</th>\n",
       "    </tr>\n",
       "  </thead>\n",
       "  <tbody>\n",
       "    <tr>\n",
       "      <th>0</th>\n",
       "      <td>Beautiful unique dress</td>\n",
       "      <td>Wore this to my sons wedding. found it last mi...</td>\n",
       "      <td>1</td>\n",
       "    </tr>\n",
       "    <tr>\n",
       "      <th>1</th>\n",
       "      <td>Had high hopes but...</td>\n",
       "      <td>Gals, if you absolutely must have this top wai...</td>\n",
       "      <td>0</td>\n",
       "    </tr>\n",
       "    <tr>\n",
       "      <th>2</th>\n",
       "      <td>Buttons -buttons so cute!</td>\n",
       "      <td>I hardly believe i have not reviewed htis yet....</td>\n",
       "      <td>1</td>\n",
       "    </tr>\n",
       "    <tr>\n",
       "      <th>3</th>\n",
       "      <td>Love this dress</td>\n",
       "      <td>This dress is so cute and comfortable. i'm nor...</td>\n",
       "      <td>1</td>\n",
       "    </tr>\n",
       "    <tr>\n",
       "      <th>4</th>\n",
       "      <td>Perfect summer pants!</td>\n",
       "      <td>The linen- cotton blend breathes so well for a...</td>\n",
       "      <td>1</td>\n",
       "    </tr>\n",
       "  </tbody>\n",
       "</table>\n",
       "</div>"
      ],
      "text/plain": [
       "                       Title  \\\n",
       "0     Beautiful unique dress   \n",
       "1      Had high hopes but...   \n",
       "2  Buttons -buttons so cute!   \n",
       "3            Love this dress   \n",
       "4      Perfect summer pants!   \n",
       "\n",
       "                                               tweet  Recommended  \n",
       "0  Wore this to my sons wedding. found it last mi...            1  \n",
       "1  Gals, if you absolutely must have this top wai...            0  \n",
       "2  I hardly believe i have not reviewed htis yet....            1  \n",
       "3  This dress is so cute and comfortable. i'm nor...            1  \n",
       "4  The linen- cotton blend breathes so well for a...            1  "
      ]
     },
     "execution_count": 7,
     "metadata": {},
     "output_type": "execute_result"
    }
   ],
   "source": [
    "df.rename(columns={\"Review\":\"tweet\"}, inplace=True)\n",
    "df.head()"
   ]
  },
  {
   "cell_type": "code",
   "execution_count": 8,
   "metadata": {},
   "outputs": [],
   "source": [
    "df.to_csv(\"data.csv\")"
   ]
  },
  {
   "cell_type": "code",
   "execution_count": 9,
   "metadata": {},
   "outputs": [
    {
     "data": {
      "text/plain": [
       "10798"
      ]
     },
     "execution_count": 9,
     "metadata": {},
     "output_type": "execute_result"
    }
   ],
   "source": [
    "len(df.Title.unique())"
   ]
  },
  {
   "cell_type": "code",
   "execution_count": 12,
   "metadata": {
    "scrolled": true
   },
   "outputs": [
    {
     "data": {
      "text/plain": [
       "16985"
      ]
     },
     "execution_count": 12,
     "metadata": {},
     "output_type": "execute_result"
    }
   ],
   "source": [
    "len(df.tweet.unique())"
   ]
  },
  {
   "cell_type": "code",
   "execution_count": 30,
   "metadata": {
    "scrolled": true
   },
   "outputs": [
    {
     "data": {
      "text/plain": [
       "17614"
      ]
     },
     "execution_count": 30,
     "metadata": {},
     "output_type": "execute_result"
    }
   ],
   "source": [
    "len(df.Recommended)"
   ]
  },
  {
   "cell_type": "code",
   "execution_count": 33,
   "metadata": {},
   "outputs": [
    {
     "data": {
      "text/plain": [
       "dtype('int64')"
      ]
     },
     "execution_count": 33,
     "metadata": {},
     "output_type": "execute_result"
    }
   ],
   "source": [
    "df.Recommended.dtype"
   ]
  },
  {
   "cell_type": "code",
   "execution_count": 13,
   "metadata": {
    "scrolled": true
   },
   "outputs": [
    {
     "data": {
      "text/plain": [
       "17614"
      ]
     },
     "execution_count": 13,
     "metadata": {},
     "output_type": "execute_result"
    }
   ],
   "source": [
    "len(df)"
   ]
  },
  {
   "cell_type": "code",
   "execution_count": 36,
   "metadata": {},
   "outputs": [
    {
     "data": {
      "text/plain": [
       "['.ipynb_checkpoints',\n",
       " 'create database table.JPG',\n",
       " 'data.csv',\n",
       " 'psql copy.JPG',\n",
       " 'psql twitter.JPG',\n",
       " 'python_postgres_tweets.ipynb',\n",
       " 'query.JPG',\n",
       " 'twitter.sql']"
      ]
     },
     "execution_count": 36,
     "metadata": {},
     "output_type": "execute_result"
    }
   ],
   "source": [
    "os.listdir()"
   ]
  },
  {
   "cell_type": "code",
   "execution_count": 41,
   "metadata": {},
   "outputs": [
    {
     "data": {
      "text/plain": [
       "[('Beautiful unique dress',\n",
       "  'Wore this to my sons wedding. found it last minute when i had changed my mind about another byron lars dress. i felt awesome in it and got many compliments',\n",
       "  1),\n",
       " ('Had high hopes but...',\n",
       "  \"Gals, if you absolutely must have this top wait for it to go on sale (don't worry, it will). between the poor fit and the polyester, i have no good things to report about it. this is very much below retailer's usual quality and style.\",\n",
       "  0),\n",
       " ('Buttons -buttons so cute!',\n",
       "  'I hardly believe i have not reviewed htis yet... so i tried it on in the sotre and was not convinced, my usual xs looked huge and hte \"hip\" part flared out in a funny way. i did, however decide to order it online in petties, to see( i really do love the design in the front, and the hemline is fun and unusual). they didn\\'t have my usual xs so odrdered xxs, just to see... what a great choice, it fits like a glove now and the swaeter is jsut so beautiful... jsut wish it wasn\\'t so pricey, but wil ke',\n",
       "  1),\n",
       " ('Love this dress',\n",
       "  \"This dress is so cute and comfortable. i'm normally a 0 or 2 and the xs is plenty roomy even though this is a clingy knit. the nice cotton under slip hides all the bumps and bulges. only worry is whether or not the loose weave will pick and how it will clean but so far i am thrilled.\",\n",
       "  1),\n",
       " ('Perfect summer pants!',\n",
       "  \"The linen- cotton blend breathes so well for a hot summer day! the design on the waistline is super cute and yes they are a little long in the leg but that can be a plus+ for vertically challenged girls like me. wedges and platforms are perfect to show off the soft drape of the pant legs. now that they're on sale, i'm snatching up other colors, like white and light khaki- already have the seersucker blue pair!\",\n",
       "  1)]"
      ]
     },
     "execution_count": 41,
     "metadata": {},
     "output_type": "execute_result"
    }
   ],
   "source": [
    "conn = psycopg2.connect(host=\"localhost\", database=\"tweets\", user=\"postgres\", password=\"ankur715\")\n",
    "cur = conn.cursor()\n",
    "cur.execute('SELECT * FROM twitter;')\n",
    "cur.fetchmany(5)"
   ]
  },
  {
   "cell_type": "markdown",
   "metadata": {},
   "source": []
  }
 ],
 "metadata": {
  "kernelspec": {
   "display_name": "Python 3",
   "language": "python",
   "name": "python3"
  },
  "language_info": {
   "codemirror_mode": {
    "name": "ipython",
    "version": 3
   },
   "file_extension": ".py",
   "mimetype": "text/x-python",
   "name": "python",
   "nbconvert_exporter": "python",
   "pygments_lexer": "ipython3",
   "version": "3.7.3"
  }
 },
 "nbformat": 4,
 "nbformat_minor": 2
}
